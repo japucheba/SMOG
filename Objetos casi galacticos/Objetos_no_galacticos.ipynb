{
 "cells": [
  {
   "cell_type": "code",
   "execution_count": 3,
   "id": "a845cd41-02aa-4c61-aed8-a3a699ce305b",
   "metadata": {
    "editable": true,
    "slideshow": {
     "slide_type": ""
    },
    "tags": []
   },
   "outputs": [
    {
     "name": "stdout",
     "output_type": "stream",
     "text": [
      "0\n",
      "[]\n",
      "#######################################\n",
      "25\n",
      "['102.9370469,0.6842495', '102.7655300,0.3487718', '102.8130501,0.3115150', '103.0281882,0.2962455', '102.9800883,0.1782603', '102.7355747,0.1450296', '102.6286348,0.1979108', '102.6087044,0.2618256', '102.4223663,0.3171058', '102.5755851,0.4737258', '102.5945263,0.6081964', '102.5012287,0.7176380', '102.2899945,0.7902287', '102.9407690,0.8080774', '102.8970996,0.7732452', '102.9840967,0.5525762', '102.9850945,0.4777428', '102.9580943,0.4942436', '102.9099214,0.2915782', '102.8749226,0.3580790', '102.7549205,0.3472147', '102.6302829,0.0458828', '102.6207184,0.3326496', '102.4130804,0.6515831', '102.1178002,0.8076055']\n",
      "#######################################\n"
     ]
    }
   ],
   "source": [
    "#This code is used to find what objects were found to not be galaxies by Prof. Mayra Lebron, Alondra, Julian. \n",
    "import re\n",
    "\n",
    "#Define the region you want to analyze\n",
    "Region = \"10250_0020\"\n",
    "\n",
    "#Specify path to the files you want to analyze\n",
    "path = \"C:\\\\Users\\\\sheli\\\\A. Extragalactica\\\\Objetos casi galacticos\\\\Coordenadas\\\\\" + Region + \"\\\\\"\n",
    "\n",
    "#Specify files you want to analyze\n",
    "mayra_file = open(path + \"M. 10250+0020.reg\")\n",
    "alondra_file = open(path + 'A. 10250.0020.reg')\n",
    "julio_file = open(path + 'J. ds9regions_10250+0020.reg')\n",
    "\n",
    "#Create function to find all coordinates\n",
    "def ccc(path):\n",
    "    lst = path.read().split()\n",
    "    i = lst.index('galactic')\n",
    "    new_lst = ((j) for j in lst[i+1:])\n",
    "    s = ''.join(new_lst)\n",
    "\n",
    "    # Get only the coordinates of each file\n",
    "    pattern  = r'\\(([\\d\\.]+,[\\d\\.]+)' #define the pattern of what you want to find\n",
    "    numbers = re.findall(pattern, s)\n",
    "\n",
    "    print(len(numbers))\n",
    "    print(numbers)\n",
    "    print('#######################################')\n",
    "    return numbers\n",
    "\n",
    "#Use function for each file\n",
    "#m = ccc(mayra_file)\n",
    "a = ccc(alondra_file)\n",
    "j = ccc(julio_file)\n"
   ]
  },
  {
   "cell_type": "code",
   "execution_count": 4,
   "id": "8be03429-e38a-4bce-b142-e939d2121a02",
   "metadata": {
    "editable": true,
    "slideshow": {
     "slide_type": ""
    },
    "tags": []
   },
   "outputs": [
    {
     "name": "stdout",
     "output_type": "stream",
     "text": [
      "Directory already exists!\n",
      "Archivo de regiones 'C:\\Users\\sheli\\A. Extragalactica\\Objetos casi galacticos\\Coordenadas\\10250_0020\\10250_0020_all_findings.txt' creado exitosamente.\n"
     ]
    }
   ],
   "source": [
    "import re\n",
    "import os\n",
    "\n",
    "\n",
    "#Specify files you want to analyze\n",
    "mayra_file = open(path + \"M. 10250+0020.reg\")\n",
    "alondra_file = open(path + 'A. 10250.0020.reg')\n",
    "julio_file = open(path + 'J. ds9regions_10250+0020.reg')\n",
    "\n",
    "\n",
    "\n",
    "#Define all the files\n",
    "all_files=[mayra_file, alondra_file, julio_file]\n",
    "\n",
    "#Name the file you will obtain with all of the regions\n",
    "output_file = path + Region + \"_all_findings.txt\"\n",
    "output_path = os.path.join(path, output_file)\n",
    "\n",
    "\n",
    "#If the path does not exist, it creates it\n",
    "if not os.path.exists(path):\n",
    "    # Create the directory\n",
    "    os.makedirs(path)\n",
    "    print(\"Directory created successfully!\")\n",
    "else:\n",
    "    print(\"Directory already exists!\")\n",
    " \n",
    "\n",
    "#Create the file with all the regions\n",
    "with open(output_path, 'w') as reg_file:\n",
    "    for file in all_files:\n",
    "        for f in file:\n",
    "            lst = file.read().split()\n",
    "            i = lst.index('galactic')\n",
    "            new_lst = ((j) for j in lst[i+1:])\n",
    "            s = ''.join(new_lst)\n",
    "            pattern  = r'\\(([\\d\\.]+,[\\d\\.]+)'\n",
    "            numbers = re.findall(pattern, s)\n",
    "            for r in numbers:\n",
    "                mystring = r.replace(\",\", \" \")\n",
    "                reg_file.write(f'{mystring} \\n')\n",
    "\n",
    "print(f\"Archivo de regiones '{output_file}' creado exitosamente.\")\n"
   ]
  },
  {
   "cell_type": "code",
   "execution_count": 5,
   "id": "81a26f30-a5ac-4e24-b793-314387a93091",
   "metadata": {
    "editable": true,
    "slideshow": {
     "slide_type": ""
    },
    "tags": []
   },
   "outputs": [
    {
     "name": "stdout",
     "output_type": "stream",
     "text": [
      "Archivo de regiones 'C:\\Users\\sheli\\A. Extragalactica\\Objetos casi galacticos\\Coordenadas\\10250_0020\\galacticas_NoGalax_10250_0020.reg' creado exitosamente.\n"
     ]
    }
   ],
   "source": [
    "import numpy as np\n",
    "\n",
    "#Path to official galaxies file\n",
    "path2 = \"C:\\\\Users\\\\sheli\\\\A. Extragalactica\\\\Corte Galaxias\\\\region_files\\\\\" + Region + \"\\\\\"\n",
    "\n",
    "\n",
    "#Call on the file with which you'll compare the file you created\n",
    "official = path2 + \"galacticas_\" + Region + \".reg\"\n",
    "\n",
    "#Name the file that will collect all of the coordinates that are different between your files\n",
    "output_file2 = path + \"galacticas_NoGalax_\" + Region + \".reg\"\n",
    "\n",
    "#Split the coordinates and return float\n",
    "def parse_line(line):\n",
    "    # Split the line using regex to handle both spaces and commas\n",
    "    coords = re.split(r'[,\\s]+', line.strip())\n",
    "    return np.array([float(coord) for coord in coords])\n",
    "\n",
    "#Compare each file with a tolerance of 0.005\n",
    "def compare_files(file1, file2, tolerance=0.005):\n",
    "    with open(file1) as f1, open(file2) as f2:\n",
    "        lines1 = f1.readlines()\n",
    "        lines2 = f2.readlines()\n",
    "\n",
    "    diff_lines = []\n",
    "\n",
    "    for line1 in lines1:\n",
    "        coord1 = parse_line(line1)\n",
    "        found_match = False\n",
    "        for line2 in lines2:\n",
    "            coord2 = parse_line(line2)\n",
    "            if np.all(np.abs(coord1 - coord2) <= tolerance):\n",
    "                found_match = True\n",
    "        if not found_match:\n",
    "            diff_lines.append(line1)\n",
    "\n",
    "    return diff_lines\n",
    "\n",
    "diff_lines = compare_files(output_file, official)\n",
    "\n",
    "#Path and name of where your file will be saved\n",
    "output_path2 = os.path.join(path, output_file2)\n",
    "\n",
    "\n",
    "#write your file\n",
    "with open(output_path2, 'w') as reg_file:\n",
    "    for z in diff_lines:\n",
    "        reg_file.write(f'{z}')\n",
    "print(f\"Archivo de regiones '{output_file2}' creado exitosamente.\")\n"
   ]
  },
  {
   "cell_type": "code",
   "execution_count": 6,
   "id": "6fdaea89-95fa-4dbd-90c5-e7ebefd84f49",
   "metadata": {
    "editable": true,
    "slideshow": {
     "slide_type": ""
    },
    "tags": []
   },
   "outputs": [
    {
     "name": "stdout",
     "output_type": "stream",
     "text": [
      "Directory already exists!\n",
      "Archivo de regiones 'DS9_10250_0020_NoGalaxias.reg' creado exitosamente.\n"
     ]
    }
   ],
   "source": [
    "#Name the region file which will be used to view all of the objects you found on DS9\n",
    "region_file = \"DS9_\" + Region + \"_NoGalaxias.reg\"\n",
    "\n",
    "#Path to save the DS9 file\n",
    "path_to_save = \"C:\\\\Users\\\\sheli\\\\A. Extragalactica\\\\Objetos casi galacticos\\\\DS9 regiones no galaxias\\\\\" + Region + \"\\\\\"\n",
    "\n",
    "#Define name and path of the file\n",
    "output_path3 = os.path.join(path_to_save, region_file)\n",
    "\n",
    "#########################################################\n",
    "#If the path is not create it, this creates it\n",
    "if not os.path.exists(path_to_save):\n",
    "    # Create the directory\n",
    "    os.makedirs(path_to_save)\n",
    "    print(\"Directory created successfully!\")\n",
    "else:\n",
    "    print(\"Directory already exists!\")\n",
    "######################################################\n",
    "\n",
    "#Read the galactic region file\n",
    "with open(output_file2, 'r') as f_galactic:\n",
    "    lines_galactic = f_galactic.readlines()\n",
    "\n",
    "# Open the new file to write on it\n",
    "with open(output_path3, 'w') as reg_file:\n",
    "    # Escribir el encabezado\n",
    "    reg_file.write('# Region file format: DS9 version 4.1\\n')\n",
    "    reg_file.write('global color=blue dashlist=8 3 width=1 font=\"helvetica 10 normal roman\" select=1 highlite=1 dash=0 fixed=0 edit=1 move=1 delete=1 include=1 source=1\\n')\n",
    "    reg_file.write('galactic\\n')\n",
    "\n",
    "    # Radius of the circles\n",
    "    radius = 24.00\n",
    "    \n",
    "    # Process each line\n",
    "    for line in lines_galactic:\n",
    "        parts = line.strip().split()\n",
    "        if len(parts) >= 2:\n",
    "            try:\n",
    "                x_center = float(parts[0])\n",
    "                y_center = float(parts[1])\n",
    "                reg_file.write(f'circle({x_center},{y_center},{radius}\") # color=blue width=2\\n')\n",
    "            except ValueError:\n",
    "                print(f\"Línea inválida, omitiendo: {line.strip()}\")\n",
    "        else:\n",
    "            print(f\"Línea con partes insuficientes, omitiendo: {line.strip()}\")\n",
    "\n",
    "print(f\"Archivo de regiones '{region_file}' creado exitosamente.\")"
   ]
  },
  {
   "cell_type": "code",
   "execution_count": null,
   "id": "b4267251-cc78-482d-8f2e-26889efd9723",
   "metadata": {
    "editable": true,
    "slideshow": {
     "slide_type": ""
    },
    "tags": []
   },
   "outputs": [],
   "source": []
  }
 ],
 "metadata": {
  "kernelspec": {
   "display_name": "Python 3 (ipykernel)",
   "language": "python",
   "name": "python3"
  },
  "language_info": {
   "codemirror_mode": {
    "name": "ipython",
    "version": 3
   },
   "file_extension": ".py",
   "mimetype": "text/x-python",
   "name": "python",
   "nbconvert_exporter": "python",
   "pygments_lexer": "ipython3",
   "version": "3.12.2"
  }
 },
 "nbformat": 4,
 "nbformat_minor": 5
}
