{
 "cells": [
  {
   "cell_type": "code",
   "execution_count": 32,
   "id": "a845cd41-02aa-4c61-aed8-a3a699ce305b",
   "metadata": {},
   "outputs": [
    {
     "name": "stdout",
     "output_type": "stream",
     "text": [
      "123\n",
      "['105.0159293,0.7952697', '105.0485693,0.7887871', '105.0319214,0.8164590', '104.9823389,0.6052568', '104.9733113,0.6203034', '104.9571458,0.6820631', '105.0456903,0.6708335', '105.0218407,0.4774824', '104.9745192,0.4430857', '104.9661855,0.4378776', '104.9791489,0.4425069', '105.0183841,0.3873900', '104.9180142,0.2936150', '104.9674354,0.2691924', '105.0228567,0.2527232', '105.0207733,0.2511028', '104.9950786,0.2516823', '105.0244752,0.1938435', '105.0129181,0.1460985', '105.0087518,0.1576727', '105.0277332,0.1547786', '105.0222734,0.1087880', '104.9695142,0.1094840', '104.7941556,0.0008168', '104.8014662,0.0264185', '104.9319663,0.0522073', '104.8978228,0.0480415', '104.8848617,0.1237223', '104.8837046,0.1404677', '104.8904384,0.2335694', '104.8404383,0.2510474', '104.8656707,0.2790006', '104.8686988,0.2931810', '104.8131427,0.2983905', '104.8088600,0.2892471', '104.8631626,0.3344451', '104.8694128,0.3393060', '104.8605006,0.3379173', '104.8515885,0.3428944', '104.8570101,0.3538526', '104.8695895,0.3761532', '104.8388047,0.5068159', '104.8272134,0.5883810', '104.9346248,0.6188970', '104.9031429,0.6410645', '104.9024483,0.6344673', '104.8811335,0.6670511', '104.8599534,0.7193896', '104.8846452,0.7635279', '104.8667046,0.7641070', '104.9110357,0.7873328', '104.6947717,0.7566840', '104.7901256,0.6600113', '104.7890836,0.6395252', '104.7558651,0.6561924', '104.8211722,0.3807191', '104.7374477,0.3279705', '104.6976968,0.2991099', '104.6489391,0.0248651', '104.5695555,0.0985832', '104.5914723,0.1211109', '104.6547226,0.1390270', '104.6876121,0.1870823', '104.6642788,0.1995825', '104.6601121,0.1995826', '104.6919187,0.2782489', '104.7027520,0.2631099', '104.5766678,0.3519443', '104.6459182,0.2741660', '104.6557527,0.3832770', '104.6501166,0.6988882', '104.5036112,0.5613333', '104.5080558,0.4966944', '104.4703612,0.0780278', '104.4682220,0.2143055', '104.4674997,0.2492222', '104.4724998,0.2393611', '104.3719707,0.2998884', '104.3773591,0.3708884', '104.4211098,0.3708887', '104.4984722,0.3834167', '104.4448601,0.4026388', '104.3717732,0.6920550', '104.3846903,0.6916385', '104.3538826,0.8026382', '104.3781892,0.8006940', '104.3695779,0.7855550', '104.3537440,0.7687493', '104.4405530,0.8108332', '104.4648597,0.7808333', '104.4808325,0.8391389', '104.5027779,0.8431667', '104.2953245,0.8108876', '104.2612956,0.7840260', '104.4092744,0.7082775', '104.2754960,0.3929151', '104.2472468,0.3097481', '104.2401359,0.2866368', '104.3200542,0.2218879', '104.1787792,0.0283857', '104.1884943,0.3988304', '104.1451599,0.4121628', '104.1728265,0.4408301', '104.3119676,0.5071934', '104.2240489,0.4987199', '104.1461015,0.5451628', '104.2737438,0.5517207', '104.1850177,0.6258303', '104.2225985,0.8464421', '104.1452068,0.8140239', '104.1135391,0.7979121', '104.1217342,0.7841901', '104.0685150,0.5851888', '104.0796265,0.5831057', '104.0864322,0.5844948', '104.1757722,0.3838301', '104.1343609,0.1098015', '104.1636640,0.2304132', '104.0173972,0.7605485', '104.0110355,0.7740760', '103.9957572,0.7707422', '104.4482217,0.2577777', '104.8784074,0.2767323']\n",
      "#######################################\n",
      "33\n",
      "['105.6207551,0.8000829', '105.6041334,0.8382950', '105.9339351,0.7953832', '105.4820825,0.8167500', '105.4835826,0.8146287', '105.3757448,0.7862949', '106.0296045,0.7570748', '106.0415314,0.7467611', '105.8319270,0.6104586', '105.2671216,0.5981270', '105.2842428,0.6490005', '105.5317509,0.5566832', '105.5130838,0.6707500', '105.5709183,0.4840832', '105.7059157,0.0210821', '105.7059157,0.0215820', '105.4982500,0.0685100', '105.4271165,0.1277832', '105.3643485,0.2812161', '105.6057195,0.5332163', '105.2960797,0.3884154', '105.2986251,0.3883394', '105.7977821,0.4485529', '105.2137237,0.0168031', '105.4282501,0.0799165', '105.3885837,0.0462496', '105.5243818,0.6047166', '105.9727592,0.7402849', '105.7897513,0.1737474', '105.6207551,0.8000829', '105.5130838,0.6707500', '105.0619031,0.6087441', '105.7362805,0.2363667']\n",
      "#######################################\n",
      "62\n",
      "['105.9336702,0.7962552', '106.0419380,0.7474077', '105.9724351,0.7405520', '106.0200994,0.6097417', '105.9504228,0.3225772', '105.9925905,0.3394093', '105.9952570,0.3317426', '106.0472567,0.3005742', '105.9882543,0.2434094', '105.9819209,0.2432429', '105.9857543,0.2440761', '105.7059157,0.0219154', '105.7365853,0.2367483', '105.8524192,0.2185795', '105.7475907,0.5895815', '105.6205885,0.8002495', '105.7092586,0.7784153', '105.6047547,0.8384163', '105.6694231,0.7289158', '105.6624230,0.7419159', '105.6109206,0.6862496', '105.5315842,0.5572499', '105.6054195,0.5337497', '105.6187528,0.4862495', '105.5705850,0.4842498', '105.4984167,0.0687500', '105.3760782,0.7869162', '105.4844160,0.8150833', '105.4370806,0.8125832', '105.4755823,0.7797500', '105.5535857,0.8364166', '105.5172508,0.8404167', '105.3887452,0.7989163', '105.4287474,0.7019165', '105.3594111,0.7539161', '105.5130838,0.6705833', '105.4715823,0.6532499', '105.5240841,0.6050833', '105.4470822,0.4462499', '105.3755805,0.4835829', '105.4735829,0.3517500', '105.3647485,0.2814161', '105.3884170,0.0469163', '105.4277501,0.0794165', '105.4272499,0.1282499', '105.2155829,0.1240809', '105.2674096,0.5985817', '105.2839094,0.6499152', '105.3327447,0.6225824', '105.1987401,0.6389139', '105.2905744,0.8009154', '105.0617364,0.6085774', '105.0699188,0.0185777', '106.0288124,0.7953615', '105.9277671,0.7557644', '105.9335272,0.7514443', '105.8322203,0.6107333', '105.9217661,0.7269112', '105.8564306,0.7429128', '105.8304305,0.7897467', '105.7804252,0.5999143', '105.0613999,0.7274108']\n",
      "#######################################\n"
     ]
    }
   ],
   "source": [
    "#This code is used to find what objects were found to not be galaxies by Prof. Mayra Lebron, Alondra, Julian. \n",
    "\n",
    "#Define the region you want to analyze\n",
    "Region = \"10550_0020\"\n",
    "\n",
    "#Specify path to the files you want to analyze\n",
    "path = \"C:\\\\Users\\\\sheli\\\\A. Extragalactica\\\\Objetos casi galacticos\\\\Coordenadas\\\\\" + Region + \"\\\\\"\n",
    "\n",
    "#Specify files you want to analyze\n",
    "mayra_file = open(path + \"M. 10550+0020.txt\")\n",
    "alondra_file = open(path + 'A. 10550.0020.reg')\n",
    "julio_file = open(path + 'J. ds9regions_10550+0020.reg')\n",
    "\n",
    "#Create function to find all coordinates\n",
    "def ccc(path):\n",
    "    lst = path.read().split()\n",
    "    i = lst.index('galactic')\n",
    "    new_lst = ((j) for j in lst[i+1:])\n",
    "    s = ''.join(new_lst)\n",
    "\n",
    "    # Get only the coordinates of each file\n",
    "    pattern  = r'\\(([\\d\\.]+,[\\d\\.]+)' #define the pattern of what you want to find\n",
    "    numbers = re.findall(pattern, s)\n",
    "\n",
    "    print(len(numbers))\n",
    "    print(numbers)\n",
    "    print('#######################################')\n",
    "    return numbers\n",
    "\n",
    "#Use function for each file\n",
    "m = ccc(mayra_file)\n",
    "a = ccc(alondra_file)\n",
    "j = ccc(julio_file)\n"
   ]
  },
  {
   "cell_type": "code",
   "execution_count": 74,
   "id": "8be03429-e38a-4bce-b142-e939d2121a02",
   "metadata": {
    "editable": true,
    "slideshow": {
     "slide_type": ""
    },
    "tags": []
   },
   "outputs": [
    {
     "name": "stdout",
     "output_type": "stream",
     "text": [
      "Directory already exists!\n",
      "Archivo de regiones 'C:\\Users\\sheli\\A. Extragalactica\\Objetos casi galacticos\\Coordenadas\\10550_0020\\10550_0020_all_findings.txt' creado exitosamente.\n"
     ]
    }
   ],
   "source": [
    "import re\n",
    "import os\n",
    "\n",
    "#Define all the files\n",
    "all_files=[mayra_file, alondra_file, julio_file]\n",
    "\n",
    "#Name the file you will obtain with all of the regions\n",
    "output_file = path + Region + \"_all_findings.txt\"\n",
    "output_path = os.path.join(path, output_file)\n",
    "\n",
    "\n",
    "#If the path does not exist, it creates it\n",
    "if not os.path.exists(path):\n",
    "    # Create the directory\n",
    "    os.makedirs(path)\n",
    "    print(\"Directory created successfully!\")\n",
    "else:\n",
    "    print(\"Directory already exists!\")\n",
    " \n",
    "\n",
    "#Create the file with all the regions\n",
    "with open(output_path, 'w') as reg_file:\n",
    "    for file in all_files:\n",
    "        for f in file : \n",
    "            lst = file.read().split()\n",
    "            i = lst.index('galactic')\n",
    "            new_lst = (float(j) for j in lst[i+1:])\n",
    "            s = ''.join(new_lst)\n",
    "            pattern  = r'\\(([\\d\\.]+,[\\d\\.]+)'\n",
    "            numbers = re.findall(pattern, s)\n",
    "            for r in numbers:\n",
    "                mystring = r.replace(\",\", \" \")\n",
    "                reg_file.write(f'{mystring} \\n')\n",
    "\n",
    "print(f\"Archivo de regiones '{output_file}' creado exitosamente.\")\n"
   ]
  },
  {
   "cell_type": "code",
   "execution_count": 36,
   "id": "81a26f30-a5ac-4e24-b793-314387a93091",
   "metadata": {
    "editable": true,
    "slideshow": {
     "slide_type": ""
    },
    "tags": []
   },
   "outputs": [
    {
     "name": "stdout",
     "output_type": "stream",
     "text": [
      "Archivo de regiones 'C:\\Users\\sheli\\A. Extragalactica\\Objetos casi galacticos\\Coordenadas\\10550_0020\\galacticas_NoGalax_10550_0020.reg' creado exitosamente.\n"
     ]
    }
   ],
   "source": [
    "import numpy as np\n",
    "\n",
    "#Path to official galaxies file\n",
    "path2 = \"C:\\\\Users\\\\sheli\\\\A. Extragalactica\\\\Corte Galaxias\\\\region_files\\\\\" + Region + \"\\\\\"\n",
    "\n",
    "\n",
    "#Call on the file with which you'll compare the file you created\n",
    "official = path2 + \"galacticas_\" + Region + \".reg\"\n",
    "\n",
    "#Name the file that will collect all of the coordinates that are different between your files\n",
    "output_file2 = path + \"galacticas_NoGalax_\" + Region + \".reg\"\n",
    "\n",
    "#Split the coordinates and return float\n",
    "def parse_line(line):\n",
    "    # Split the line using regex to handle both spaces and commas\n",
    "    coords = re.split(r'[,\\s]+', line.strip())\n",
    "    return np.array([float(coord) for coord in coords])\n",
    "\n",
    "#Compare each file with a tolerance of 0.005\n",
    "def compare_files(file1, file2, tolerance=0.001):\n",
    "    with open(file1) as f1, open(file2) as f2:\n",
    "        lines1 = f1.readlines()\n",
    "        lines2 = f2.readlines()\n",
    "\n",
    "    diff_lines = []\n",
    "\n",
    "    for line1 in lines1:\n",
    "        coord1 = parse_line(line1)\n",
    "        found_match = False\n",
    "        for line2 in lines2:\n",
    "            coord2 = parse_line(line2)\n",
    "            if np.all(np.abs(coord1 - coord2) <= tolerance):\n",
    "                found_match = True\n",
    "        if not found_match:\n",
    "            diff_lines.append(line1)\n",
    "\n",
    "    return diff_lines\n",
    "\n",
    "diff_lines = compare_files(output_file, official)\n",
    "\n",
    "#Path and name of where your file will be saved\n",
    "output_path2 = os.path.join(path, output_file2)\n",
    "\n",
    "\n",
    "#write your file\n",
    "with open(output_path2, 'w') as reg_file:\n",
    "    for z in diff_lines:\n",
    "        reg_file.write(f'{z}')\n",
    "print(f\"Archivo de regiones '{output_file2}' creado exitosamente.\")\n"
   ]
  },
  {
   "cell_type": "code",
   "execution_count": 37,
   "id": "6fdaea89-95fa-4dbd-90c5-e7ebefd84f49",
   "metadata": {},
   "outputs": [
    {
     "name": "stdout",
     "output_type": "stream",
     "text": [
      "Directory already exists!\n",
      "Archivo de regiones 'DS9_10550_0020_NoGalaxias.reg' creado exitosamente.\n"
     ]
    }
   ],
   "source": [
    "#Name thee region file which will be used to view all of the objects you found on DS9\n",
    "region_file = \"DS9_\" + Region + \"_NoGalaxias.reg\"\n",
    "\n",
    "#Path to save the DS9 file\n",
    "path_to_save = \"C:\\\\Users\\\\sheli\\\\A. Extragalactica\\\\Objetos casi galacticos\\\\DS9 regiones no galaxias\\\\\" + Region + \"\\\\\"\n",
    "\n",
    "#Define name and path of the file\n",
    "output_path3 = os.path.join(path_to_save, region_file)\n",
    "\n",
    "#########################################################\n",
    "#If the path is not create it, this creates it\n",
    "if not os.path.exists(path_to_save):\n",
    "    # Create the directory\n",
    "    os.makedirs(path_to_save)\n",
    "    print(\"Directory created successfully!\")\n",
    "else:\n",
    "    print(\"Directory already exists!\")\n",
    "######################################################\n",
    "\n",
    "#Read the galactic region file\n",
    "with open(output_file2, 'r') as f_galactic:\n",
    "    lines_galactic = f_galactic.readlines()\n",
    "\n",
    "# Open the new file to write on it\n",
    "with open(output_path3, 'w') as reg_file:\n",
    "    # Escribir el encabezado\n",
    "    reg_file.write('# Region file format: DS9 version 4.1\\n')\n",
    "    reg_file.write('global color=blue dashlist=8 3 width=1 font=\"helvetica 10 normal roman\" select=1 highlite=1 dash=0 fixed=0 edit=1 move=1 delete=1 include=1 source=1\\n')\n",
    "    reg_file.write('galactic\\n')\n",
    "\n",
    "    # Radius of the circles\n",
    "    radius = 24.00\n",
    "    \n",
    "    # Process each line\n",
    "    for line in lines_galactic:\n",
    "        parts = line.strip().split()\n",
    "        if len(parts) >= 2:\n",
    "            try:\n",
    "                x_center = float(parts[0])\n",
    "                y_center = float(parts[1])\n",
    "                reg_file.write(f'circle({x_center},{y_center},{radius}\") # color=blue width=2\\n')\n",
    "            except ValueError:\n",
    "                print(f\"Línea inválida, omitiendo: {line.strip()}\")\n",
    "        else:\n",
    "            print(f\"Línea con partes insuficientes, omitiendo: {line.strip()}\")\n",
    "\n",
    "print(f\"Archivo de regiones '{region_file}' creado exitosamente.\")"
   ]
  },
  {
   "cell_type": "code",
   "execution_count": null,
   "id": "b4267251-cc78-482d-8f2e-26889efd9723",
   "metadata": {},
   "outputs": [],
   "source": []
  }
 ],
 "metadata": {
  "kernelspec": {
   "display_name": "Python 3 (ipykernel)",
   "language": "python",
   "name": "python3"
  },
  "language_info": {
   "codemirror_mode": {
    "name": "ipython",
    "version": 3
   },
   "file_extension": ".py",
   "mimetype": "text/x-python",
   "name": "python",
   "nbconvert_exporter": "python",
   "pygments_lexer": "ipython3",
   "version": "3.12.2"
  }
 },
 "nbformat": 4,
 "nbformat_minor": 5
}
