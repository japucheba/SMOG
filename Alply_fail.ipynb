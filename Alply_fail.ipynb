{
 "cells": [
  {
   "cell_type": "code",
   "execution_count": 1,
   "id": "c743181e-07af-4e8e-a3cf-adac760aef32",
   "metadata": {},
   "outputs": [],
   "source": [
    "import numpy as np\n",
    "import matplotlib.pyplot as plt\n",
    "from astropy.io import fits\n",
    "import aplpy"
   ]
  },
  {
   "cell_type": "code",
   "execution_count": 2,
   "id": "2e1a50ff-0377-4a95-9601-8b8483b01957",
   "metadata": {},
   "outputs": [
    {
     "name": "stdout",
     "output_type": "stream",
     "text": [
      "APLpy version: 2.1.0\n",
      "Astropy version: 5.3.4\n"
     ]
    }
   ],
   "source": [
    "import aplpy\n",
    "import astropy\n",
    "\n",
    "print(f\"APLpy version: {aplpy.__version__}\")\n",
    "print(f\"Astropy version: {astropy.__version__}\")"
   ]
  },
  {
   "cell_type": "code",
   "execution_count": 3,
   "id": "9c349d22-a06a-44f2-873b-1af214751762",
   "metadata": {},
   "outputs": [],
   "source": [
    "astro_data = fits.open(\"Hubble_Oxygen_Visible.fits\")"
   ]
  },
  {
   "cell_type": "code",
   "execution_count": 4,
   "id": "56f8af27-6985-456d-88a4-15a5f884277e",
   "metadata": {},
   "outputs": [
    {
     "data": {
      "text/plain": [
       "[<astropy.io.fits.hdu.image.PrimaryHDU object at 0x00000211E03AECF0>]"
      ]
     },
     "execution_count": 4,
     "metadata": {},
     "output_type": "execute_result"
    }
   ],
   "source": [
    "astro_data"
   ]
  },
  {
   "cell_type": "code",
   "execution_count": 5,
   "id": "311706eb-df03-4941-b1d0-194b714ebe18",
   "metadata": {},
   "outputs": [
    {
     "name": "stdout",
     "output_type": "stream",
     "text": [
      "Filename: Hubble_Oxygen_Visible.fits\n",
      "No.    Name      Ver    Type      Cards   Dimensions   Format\n",
      "  0  PRIMARY       1 PrimaryHDU     481   (2727, 1862)   float32   \n"
     ]
    }
   ],
   "source": [
    "astro_data.info()"
   ]
  },
  {
   "cell_type": "code",
   "execution_count": 6,
   "id": "2e343747-9318-469d-8352-d1c0245c0c7e",
   "metadata": {},
   "outputs": [
    {
     "data": {
      "text/plain": [
       "array([[ 0.        ,  0.        ,  0.        , ...,  0.        ,\n",
       "         0.        ,  0.        ],\n",
       "       [ 0.        ,  0.        ,  0.        , ...,  0.        ,\n",
       "         0.        ,  0.        ],\n",
       "       [ 0.        ,  0.        ,  0.        , ...,  0.        ,\n",
       "         0.        ,  0.        ],\n",
       "       ...,\n",
       "       [ 0.        ,  0.        , -0.01844852, ...,  0.04015741,\n",
       "         0.02050494, -0.01458882],\n",
       "       [ 0.        ,  0.        , -0.00776353, ...,  0.05013976,\n",
       "         0.01165061, -0.00090121],\n",
       "       [ 0.        ,  0.        ,  0.        , ...,  0.0355884 ,\n",
       "         0.00890445, -0.0037343 ]], dtype='>f4')"
      ]
     },
     "execution_count": 6,
     "metadata": {},
     "output_type": "execute_result"
    }
   ],
   "source": [
    "image_data = astro_data[0].data\n",
    "image_data"
   ]
  },
  {
   "cell_type": "code",
   "execution_count": 7,
   "id": "df0d31af-f4e8-4017-8a0e-078bba88299f",
   "metadata": {},
   "outputs": [
    {
     "data": {
      "text/plain": [
       "<matplotlib.image.AxesImage at 0x211e0494740>"
      ]
     },
     "execution_count": 7,
     "metadata": {},
     "output_type": "execute_result"
    },
    {
     "data": {
      "image/png": "[encoded data removed]",
      "text/plain": [
       "<Figure size 640x480 with 1 Axes>"
      ]
     },
     "metadata": {},
     "output_type": "display_data"
    }
   ],
   "source": [
    "plt.imshow(image_data,cmap=\"inferno\")"
   ]
  },
  {
   "cell_type": "code",
   "execution_count": 8,
   "id": "3cc274ae-112b-4fc2-925b-c4c0e6d39be0",
   "metadata": {},
   "outputs": [
    {
     "name": "stdout",
     "output_type": "stream",
     "text": [
      "Mean : 0.54472095\n",
      "Median : 0.009883676\n",
      "Max : 2943.6135\n",
      "Min : -0.31569886\n",
      "std : 23.161999\n"
     ]
    }
   ],
   "source": [
    "print(\"Mean :\", np.mean(image_data))\n",
    "print(\"Median :\", np.median(image_data))\n",
    "print(\"Max :\", np.max(image_data))\n",
    "print(\"Min :\", np.min(image_data))\n",
    "print(\"std :\", np.std(image_data))"
   ]
  },
  {
   "cell_type": "code",
   "execution_count": null,
   "id": "b7f5b2ac-a650-45a5-bcaf-087595c59833",
   "metadata": {},
   "outputs": [],
   "source": [
    "#loading the histogram of the image..\n",
    "\n",
    "plt.hist(image_data.flatten(),bins=\"auto\")\n",
    "plt.show()"
   ]
  },
  {
   "cell_type": "code",
   "execution_count": null,
   "id": "a18b42f4-46f0-4ea5-9d5a-94c5fc43036c",
   "metadata": {},
   "outputs": [],
   "source": []
  }
 ],
 "metadata": {
  "kernelspec": {
   "display_name": "Python 3 (ipykernel)",
   "language": "python",
   "name": "python3"
  },
  "language_info": {
   "codemirror_mode": {
    "name": "ipython",
    "version": 3
   },
   "file_extension": ".py",
   "mimetype": "text/x-python",
   "name": "python",
   "nbconvert_exporter": "python",
   "pygments_lexer": "ipython3",
   "version": "3.12.2"
  }
 },
 "nbformat": 4,
 "nbformat_minor": 5
}
